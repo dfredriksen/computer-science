{
 "cells": [
  {
   "cell_type": "markdown",
   "metadata": {},
   "source": [
    "# Breadth First Search / Shortest Path\n",
    "\n",
    "## Adjacency Lists\n",
    "Adjacency lists are $ O(V + E) $ where $V$ is the number of vertices and $E$ is the number of edges\n",
    "\n",
    "Best used when the graph is sparse (not all nodes are connected to each other)"
   ]
  },
  {
   "cell_type": "code",
   "execution_count": 1,
   "metadata": {},
   "outputs": [],
   "source": [
    "from collections import deque\n",
    "\n",
    "def shortest_path(graph, start, target):\n",
    "    \"\"\"\n",
    "    graph: adjacency list {node: [neighbors]}\n",
    "    start, target: nodes in the graph\n",
    "    Returns the shortest path length from start to target\n",
    "    \"\"\"\n",
    "    visited = set([start])\n",
    "    queue = deque([(start, 0)])  # (node, distance)\n",
    "    \n",
    "    while queue:\n",
    "        node, dist = queue.popleft()\n",
    "        if node == target:\n",
    "            return dist  # Found the shortest path\n",
    "        \n",
    "        for neighbor in graph[node]:\n",
    "            if neighbor not in visited:\n",
    "                visited.add(neighbor)\n",
    "                queue.append((neighbor, dist + 1))\n",
    "    \n",
    "    return -1  # Target not reachable\n"
   ]
  },
  {
   "cell_type": "code",
   "execution_count": 3,
   "metadata": {},
   "outputs": [],
   "source": [
    "def traverse_neighbor(graph, node, visited, queue, dist):\n",
    "    for neighbor in graph[node]:\n",
    "        if neighbor not in visited:\n",
    "            visited.add(neighbor)\n",
    "            queue.append((neighbor, dist + 1))\n",
    "\n",
    "\n",
    "def refactored_shortest_path(graph, start, target):\n",
    "    \"\"\"\n",
    "    graph: adjacency list {node: [neighbors]}\n",
    "    start, target: nodes in the graph\n",
    "    Returns the shortest path length from start to target\n",
    "    \"\"\"\n",
    "    visited = set([start])\n",
    "    queue = deque([(start, 0)])  # (node, distance)\n",
    "    \n",
    "    while queue:\n",
    "        node, dist = queue.popleft()\n",
    "        if node == target:\n",
    "            return dist  # Found the shortest path\n",
    "        \n",
    "        traverse_neighbor(graph=graph, node=node, visited=visited, queue=queue, dist=dist)\n",
    "    \n",
    "    return -1  # Target not reachable"
   ]
  },
  {
   "cell_type": "code",
   "execution_count": 4,
   "metadata": {},
   "outputs": [
    {
     "name": "stdout",
     "output_type": "stream",
     "text": [
      "The shortest path from A to F is 2 edges long.\n",
      "The shortest path from A to F is 2 edges long.\n"
     ]
    }
   ],
   "source": [
    "# Example graph represented as an adjacency list\n",
    "graph = {\n",
    "    'A': ['B', 'C'],\n",
    "    'B': ['A', 'D', 'E'],\n",
    "    'C': ['A', 'F'],\n",
    "    'D': ['B'],\n",
    "    'E': ['B', 'F'],\n",
    "    'F': ['C', 'E']\n",
    "}\n",
    "\n",
    "# Example usage of the shortest_path function\n",
    "start_node = 'A'\n",
    "target_node = 'F'\n",
    "path_length = shortest_path(graph, start_node, target_node)\n",
    "print(f\"The shortest path from {start_node} to {target_node} is {path_length} edges long.\")\n",
    "path_length = refactored_shortest_path(graph, start_node, target_node)\n",
    "print(f\"The shortest path from {start_node} to {target_node} is {path_length} edges long.\")"
   ]
  },
  {
   "cell_type": "markdown",
   "metadata": {},
   "source": [
    "## Adjacency Matrices\n",
    "\n",
    "Best used if the graph is fully connected to each node. Symmetric for undirected graphs, directed graphs are not necessarily symmetric. Can also be weighted. Better for fast lookups but bad for space "
   ]
  },
  {
   "cell_type": "code",
   "execution_count": null,
   "metadata": {},
   "outputs": [],
   "source": [
    "from collections import deque\n",
    "\n",
    "def shortest_path_matrix(matrix, start, target):\n",
    "    \"\"\"\n",
    "    matrix: adjacency matrix (list of lists) for an unweighted graph\n",
    "    start, target: indices of the vertices in [0..V-1]\n",
    "    Returns the shortest path length from start to target, or -1 if not reachable.\n",
    "    \"\"\"\n",
    "    V = len(matrix)           # Number of vertices\n",
    "    visited = set([start])\n",
    "    queue = deque([(start, 0)])  # (current_node, distance_from_start)\n",
    "    \n",
    "    while queue:\n",
    "        node, dist = queue.popleft()\n",
    "        \n",
    "        # If we've reached the target, return the distance\n",
    "        if node == target:\n",
    "            return dist\n",
    "        \n",
    "        # Look at every possible neighbor\n",
    "        for neighbor in range(V):\n",
    "            # Check if there's an edge from 'node' to 'neighbor'\n",
    "            if matrix[node][neighbor] == 1 and neighbor not in visited:\n",
    "                visited.add(neighbor)\n",
    "                queue.append((neighbor, dist + 1))\n",
    "    \n",
    "    # Target wasn't found\n",
    "    return -1\n"
   ]
  },
  {
   "cell_type": "code",
   "execution_count": null,
   "metadata": {},
   "outputs": [],
   "source": [
    "from collections import deque\n",
    "\n",
    "\n",
    "def traverse_neighbors(matrix, node, neighbor, visited, queue, dist):\n",
    "    # Check if there's an edge from 'node' to 'neighbor'\n",
    "    if matrix[node][neighbor] == 1 and neighbor not in visited:\n",
    "        visited.add(neighbor)\n",
    "        queue.append((neighbor, dist + 1))\n",
    "\n",
    "def shortest_path_matrix_refactor(matrix, start, target):\n",
    "    \"\"\"\n",
    "    matrix: adjacency matrix (list of lists) for an unweighted graph\n",
    "    start, target: indices of the vertices in [0..V-1]\n",
    "    Returns the shortest path length from start to target, or -1 if not reachable.\n",
    "    \"\"\"\n",
    "    V = len(matrix)           # Number of vertices\n",
    "    visited = set([start])\n",
    "    queue = deque([(start, 0)])  # (current_node, distance_from_start)\n",
    "    \n",
    "    while queue:\n",
    "        node, dist = queue.popleft()\n",
    "        \n",
    "        # If we've reached the target, return the distance\n",
    "        if node == target:\n",
    "            return dist\n",
    "        \n",
    "        # Look at every possible neighbor\n",
    "        for neighbor in range(V):\n",
    "            traverse_neighbors(matrix, node, neighbor, visited, queue, dist)\n",
    "    \n",
    "    # Target wasn't found\n",
    "    return -1\n"
   ]
  },
  {
   "cell_type": "code",
   "execution_count": null,
   "metadata": {},
   "outputs": [],
   "source": [
    "# Example adjacency matrix for an unweighted graph\n",
    "matrix = [\n",
    "    [0, 1, 1, 0, 0, 0],\n",
    "    [1, 0, 0, 1, 1, 0],\n",
    "    [1, 0, 0, 0, 0, 1],\n",
    "    [0, 1, 0, 0, 0, 0],\n",
    "    [0, 1, 0, 0, 0, 1],\n",
    "    [0, 0, 1, 0, 1, 0]\n",
    "]\n",
    "\n",
    "# Example usage of the shortest_path_matrix_refactor function\n",
    "start_node = 0  # Corresponds to 'A'\n",
    "target_node = 5  # Corresponds to 'F'\n",
    "path_length = shortest_path_matrix_refactor(matrix, start_node, target_node)\n",
    "print(f\"The shortest path from node {start_node} to node {target_node} is {path_length} edges long.\")"
   ]
  },
  {
   "cell_type": "code",
   "execution_count": null,
   "metadata": {},
   "outputs": [],
   "source": []
  }
 ],
 "metadata": {
  "kernelspec": {
   "display_name": ".venv",
   "language": "python",
   "name": "python3"
  },
  "language_info": {
   "codemirror_mode": {
    "name": "ipython",
    "version": 3
   },
   "file_extension": ".py",
   "mimetype": "text/x-python",
   "name": "python",
   "nbconvert_exporter": "python",
   "pygments_lexer": "ipython3",
   "version": "3.11.1"
  }
 },
 "nbformat": 4,
 "nbformat_minor": 2
}
